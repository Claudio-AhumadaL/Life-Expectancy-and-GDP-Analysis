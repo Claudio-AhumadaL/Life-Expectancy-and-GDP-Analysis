{
 "cells": [
  {
   "cell_type": "code",
   "execution_count": 1,
   "metadata": {},
   "outputs": [],
   "source": [
    "# Import necessary libraries\n",
    "\n",
    "import pandas as pd\n",
    "import numpy as np\n",
    "import matplotlib.pyplot as plt\n",
    "import seaborn as sns\n",
    "from scipy import stats"
   ]
  },
  {
   "cell_type": "code",
   "execution_count": 2,
   "metadata": {},
   "outputs": [
    {
     "data": {
      "text/html": [
       "<div>\n",
       "<style scoped>\n",
       "    .dataframe tbody tr th:only-of-type {\n",
       "        vertical-align: middle;\n",
       "    }\n",
       "\n",
       "    .dataframe tbody tr th {\n",
       "        vertical-align: top;\n",
       "    }\n",
       "\n",
       "    .dataframe thead th {\n",
       "        text-align: right;\n",
       "    }\n",
       "</style>\n",
       "<table border=\"1\" class=\"dataframe\">\n",
       "  <thead>\n",
       "    <tr style=\"text-align: right;\">\n",
       "      <th></th>\n",
       "      <th>Country</th>\n",
       "      <th>Year</th>\n",
       "      <th>Life expectancy at birth (years)</th>\n",
       "      <th>GDP</th>\n",
       "    </tr>\n",
       "  </thead>\n",
       "  <tbody>\n",
       "    <tr>\n",
       "      <th>0</th>\n",
       "      <td>Chile</td>\n",
       "      <td>2000</td>\n",
       "      <td>77.3</td>\n",
       "      <td>7.786093e+10</td>\n",
       "    </tr>\n",
       "    <tr>\n",
       "      <th>1</th>\n",
       "      <td>Chile</td>\n",
       "      <td>2001</td>\n",
       "      <td>77.3</td>\n",
       "      <td>7.097992e+10</td>\n",
       "    </tr>\n",
       "    <tr>\n",
       "      <th>2</th>\n",
       "      <td>Chile</td>\n",
       "      <td>2002</td>\n",
       "      <td>77.8</td>\n",
       "      <td>6.973681e+10</td>\n",
       "    </tr>\n",
       "    <tr>\n",
       "      <th>3</th>\n",
       "      <td>Chile</td>\n",
       "      <td>2003</td>\n",
       "      <td>77.9</td>\n",
       "      <td>7.564346e+10</td>\n",
       "    </tr>\n",
       "    <tr>\n",
       "      <th>4</th>\n",
       "      <td>Chile</td>\n",
       "      <td>2004</td>\n",
       "      <td>78.0</td>\n",
       "      <td>9.921039e+10</td>\n",
       "    </tr>\n",
       "  </tbody>\n",
       "</table>\n",
       "</div>"
      ],
      "text/plain": [
       "  Country  Year  Life expectancy at birth (years)           GDP\n",
       "0   Chile  2000                              77.3  7.786093e+10\n",
       "1   Chile  2001                              77.3  7.097992e+10\n",
       "2   Chile  2002                              77.8  6.973681e+10\n",
       "3   Chile  2003                              77.9  7.564346e+10\n",
       "4   Chile  2004                              78.0  9.921039e+10"
      ]
     },
     "execution_count": 2,
     "metadata": {},
     "output_type": "execute_result"
    }
   ],
   "source": [
    "# Open and explore data\n",
    "\n",
    "legdp_data = pd.read_csv(\"all_data.csv\")\n",
    "legdp_data.head()"
   ]
  },
  {
   "cell_type": "code",
   "execution_count": 3,
   "metadata": {},
   "outputs": [
    {
     "name": "stdout",
     "output_type": "stream",
     "text": [
      "<class 'pandas.core.frame.DataFrame'>\n",
      "RangeIndex: 96 entries, 0 to 95\n",
      "Data columns (total 4 columns):\n",
      " #   Column                            Non-Null Count  Dtype  \n",
      "---  ------                            --------------  -----  \n",
      " 0   Country                           96 non-null     object \n",
      " 1   Year                              96 non-null     int64  \n",
      " 2   Life expectancy at birth (years)  96 non-null     float64\n",
      " 3   GDP                               96 non-null     float64\n",
      "dtypes: float64(2), int64(1), object(1)\n",
      "memory usage: 3.1+ KB\n",
      "None\n",
      "Chile                       16\n",
      "China                       16\n",
      "Germany                     16\n",
      "Mexico                      16\n",
      "United States of America    16\n",
      "Zimbabwe                    16\n",
      "Name: Country, dtype: int64\n"
     ]
    }
   ],
   "source": [
    "# Further explore data\n",
    "\n",
    "print(legdp_data.info())\n",
    "print(legdp_data.Country.value_counts())"
   ]
  },
  {
   "cell_type": "code",
   "execution_count": 4,
   "metadata": {},
   "outputs": [
    {
     "name": "stdout",
     "output_type": "stream",
     "text": [
      "       Country         Year  Life expectancy at birth (years)           GDP\n",
      "count       96    96.000000                         96.000000  9.600000e+01\n",
      "unique       6          NaN                               NaN           NaN\n",
      "top      Chile          NaN                               NaN           NaN\n",
      "freq        16          NaN                               NaN           NaN\n",
      "mean       NaN  2007.500000                         72.789583  3.880499e+12\n",
      "std        NaN     4.633971                         10.672882  5.197561e+12\n",
      "min        NaN  2000.000000                         44.300000  4.415703e+09\n",
      "25%        NaN  2003.750000                         74.475000  1.733018e+11\n",
      "50%        NaN  2007.500000                         76.750000  1.280220e+12\n",
      "75%        NaN  2011.250000                         78.900000  4.067510e+12\n",
      "max        NaN  2015.000000                         81.000000  1.810000e+13\n"
     ]
    }
   ],
   "source": [
    "# Initial summary statistics values\n",
    "\n",
    "print(legdp_data.describe(include = \"all\"))"
   ]
  },
  {
   "cell_type": "code",
   "execution_count": 5,
   "metadata": {},
   "outputs": [],
   "source": [
    "# Separate data by year\n",
    "\n",
    "data_2000 = legdp_data[legdp_data[\"Year\"] == 2000]\n",
    "data_2001 = legdp_data[legdp_data[\"Year\"] == 2001]\n",
    "data_2002 = legdp_data[legdp_data[\"Year\"] == 2002]\n",
    "data_2003 = legdp_data[legdp_data[\"Year\"] == 2003]\n",
    "data_2004 = legdp_data[legdp_data[\"Year\"] == 2004]\n",
    "data_2005 = legdp_data[legdp_data[\"Year\"] == 2005]\n",
    "data_2006 = legdp_data[legdp_data[\"Year\"] == 2006]\n",
    "data_2007 = legdp_data[legdp_data[\"Year\"] == 2007]\n",
    "data_2008 = legdp_data[legdp_data[\"Year\"] == 2008]\n",
    "data_2009 = legdp_data[legdp_data[\"Year\"] == 2009]\n",
    "data_2010 = legdp_data[legdp_data[\"Year\"] == 2010]\n",
    "data_2011 = legdp_data[legdp_data[\"Year\"] == 2011]\n",
    "data_2012 = legdp_data[legdp_data[\"Year\"] == 2012]\n",
    "data_2013 = legdp_data[legdp_data[\"Year\"] == 2013]\n",
    "data_2014 = legdp_data[legdp_data[\"Year\"] == 2014]\n",
    "data_2015 = legdp_data[legdp_data[\"Year\"] == 2015]"
   ]
  },
  {
   "cell_type": "code",
   "execution_count": 6,
   "metadata": {},
   "outputs": [],
   "source": [
    "# Separate data by country\n",
    "\n",
    "data_chile = legdp_data[legdp_data[\"Country\"] == \"Chile\"]\n",
    "data_china = legdp_data[legdp_data[\"Country\"] == \"China\"]\n",
    "data_germany = legdp_data[legdp_data[\"Country\"] == \"Germany\"]\n",
    "data_mexico = legdp_data[legdp_data[\"Country\"] == \"Mexico\"]\n",
    "data_usa = legdp_data[legdp_data[\"Country\"] == \"United States of America\"]\n",
    "data_zimbabwe = legdp_data[legdp_data[\"Country\"] == \"Zimbabwe\"]"
   ]
  },
  {
   "cell_type": "code",
   "execution_count": 27,
   "metadata": {},
   "outputs": [
    {
     "data": {
      "image/png": "[encoded data removed]",
      "text/plain": [
       "<Figure size 640x480 with 1 Axes>"
      ]
     },
     "metadata": {},
     "output_type": "display_data"
    }
   ],
   "source": [
    "# Chilean GDP change over time\n",
    "years = list(range(2000, 2016))\n",
    "ax = sns.lineplot(data = data_chile, x = \"Year\", y = \"GDP\", marker = \"o\")\n",
    "ax.set_xticks(years)\n",
    "ax.set_xticklabels(years, rotation = 30)\n",
    "plt.axhline(data_chile.GDP.mean(), color = \"red\", linestyle = \"dashed\", label = \"Chilean GDP mean (2000-2015)\")\n",
    "plt.legend()\n",
    "plt.title(\"Chilean GDP Change Over Time\")\n",
    "plt.show()"
   ]
  },
  {
   "cell_type": "code",
   "execution_count": null,
   "metadata": {},
   "outputs": [],
   "source": []
  }
 ],
 "metadata": {
  "kernelspec": {
   "display_name": "Python 3 (ipykernel)",
   "language": "python",
   "name": "python3"
  },
  "language_info": {
   "codemirror_mode": {
    "name": "ipython",
    "version": 3
   },
   "file_extension": ".py",
   "mimetype": "text/x-python",
   "name": "python",
   "nbconvert_exporter": "python",
   "pygments_lexer": "ipython3",
   "version": "3.9.13"
  }
 },
 "nbformat": 4,
 "nbformat_minor": 4
}
